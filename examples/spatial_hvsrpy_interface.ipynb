{
 "cells": [
  {
   "cell_type": "markdown",
   "metadata": {},
   "source": [
    "## License Information\n",
    "---\n",
    "\n",
    "This file is distributed as part of `hvsrpy`, a Python package for horizontal-to-vertical spectral ratio processing.\n",
    "\n",
    "    Copyright (C) 2019-2021 Joseph P. Vantassel (jvantassel@utexas.edu)\n",
    "\n",
    "    This program is free software: you can redistribute it and/or modify\n",
    "    it under the terms of the GNU General Public License as published by\n",
    "    the Free Software Foundation, either version 3 of the License, or\n",
    "    (at your option) any later version.\n",
    "\n",
    "    This program is distributed in the hope that it will be useful,\n",
    "    but WITHOUT ANY WARRANTY; without even the implied warranty of\n",
    "    MERCHANTABILITY or FITNESS FOR A PARTICULAR PURPOSE.  See the\n",
    "    GNU General Public License for more details.\n",
    "\n",
    "    You should have received a copy of the GNU General Public License\n",
    "    along with this program.  If not, see <https: //www.gnu.org/licenses/>.\n",
    "    \n",
    "## About _hvsrpy_ and this notebook\n",
    "---\n",
    "\n",
    "`hvsrpy` is a Python package for performing horizontal-to-vertical spectral ratio\n",
    "(HVSR) processing. `hvsrpy` was developed by Joseph P. Vantassel  with\n",
    "contributions from Dana M. Brannon under the supervision\n",
    "of Professor Brady R. Cox at The University of Texas at Austin.\n",
    "\n",
    "If you use `hvsrpy` in your research or consulting, we ask you please cite the following:\n",
    "\n",
    ">Joseph Vantassel. (2020). jpvantassel/hvsrpy: latest (Concept). Zenodo.\n",
    "[http://doi.org/10.5281/zenodo.3666956](http://doi.org/10.5281/zenodo.3666956)\n",
    "\n",
    "_Note: For software, version specific citations should be preferred to\n",
    "general concept citations, such as that listed above. To generate a version\n",
    "specific citation for `hvsrpy`, please use the citation tool on the `hvsrpy`\n",
    "[archive](http://doi.org/10.5281/zenodo.3666956)._\n",
    "\n",
    "The calculations to consider spatial variability included in `hvsrpy` and\n",
    "showcased in this notebook were developed by Tianjian Cheng under the supervision of\n",
    "Professor Brady R. Cox at The University of Texas at Austin and are detailed in\n",
    "Cheng et al (2021). To recognize their original work please cite the follwing:\n",
    "\n",
    "> Cheng, T., Hallal, M. M., Vantassel, J. P., and  Cox, B. R. (2021). \"Estimating Unbiased Statistics for Fundamental Site Frequency Using Spatially Distributed HVSR Measurements and Voronoi Tessellation.\" Submitted to Journal of Geotechnical and Geoenvironmental Engineering.\n",
    "\n",
    "\n",
    "## Getting Started\n",
    "---\n",
    "1. Install _hvsrpy_ and its dependencies, with `pip install hvsrpy`. If you are not familiar with `pip`, a useful tutorial can be found [here](https://jpvantassel.github.io/python3-course/#/intro/pip). __(~3 minutes)__\n",
    "2. Run the provided example for Warehouse 2 from CentrePort, NZ. Compare the results with those from Cheng et al. (2021). __(~5 minutes)__\n",
    "3. Swap the provided .csv files (sensor information and boundary information) and repeat to develop spatial statistics for your site. __(~20 minutes)__\n",
    "\n",
    "Happy Processing!"
   ]
  },
  {
   "cell_type": "code",
   "execution_count": 1,
   "metadata": {},
   "outputs": [],
   "source": [
    "import matplotlib.pyplot as plt\n",
    "import numpy as np\n",
    "import pandas as pd\n",
    "import matplotlib as mpl\n",
    "from matplotlib import cm\n",
    "\n",
    "from hvsrpy import plottools\n",
    "import hvsrpy"
   ]
  },
  {
   "cell_type": "markdown",
   "metadata": {},
   "source": [
    "## Load Sensor Information\n",
    "---\n",
    "\n",
    "At a minimum the sensor information must include the relative x and y coordinates and an estimate of f0. It is strongly encouraged that an uncertainty estimate of f0 is also provided."
   ]
  },
  {
   "cell_type": "code",
   "execution_count": 2,
   "metadata": {},
   "outputs": [
    {
     "data": {
      "text/html": [
       "<div>\n",
       "<style scoped>\n",
       "    .dataframe tbody tr th:only-of-type {\n",
       "        vertical-align: middle;\n",
       "    }\n",
       "\n",
       "    .dataframe tbody tr th {\n",
       "        vertical-align: top;\n",
       "    }\n",
       "\n",
       "    .dataframe thead th {\n",
       "        text-align: right;\n",
       "    }\n",
       "</style>\n",
       "<table border=\"1\" class=\"dataframe\">\n",
       "  <thead>\n",
       "    <tr style=\"text-align: right;\">\n",
       "      <th></th>\n",
       "      <th>x</th>\n",
       "      <th>y</th>\n",
       "      <th>mean</th>\n",
       "      <th>stddev</th>\n",
       "    </tr>\n",
       "  </thead>\n",
       "  <tbody>\n",
       "    <tr>\n",
       "      <th>0</th>\n",
       "      <td>544.594606</td>\n",
       "      <td>432.890014</td>\n",
       "      <td>-0.411170</td>\n",
       "      <td>0.206193</td>\n",
       "    </tr>\n",
       "    <tr>\n",
       "      <th>1</th>\n",
       "      <td>587.352069</td>\n",
       "      <td>385.720914</td>\n",
       "      <td>-0.323445</td>\n",
       "      <td>0.163446</td>\n",
       "    </tr>\n",
       "    <tr>\n",
       "      <th>2</th>\n",
       "      <td>605.466471</td>\n",
       "      <td>300.679092</td>\n",
       "      <td>-0.236087</td>\n",
       "      <td>0.063194</td>\n",
       "    </tr>\n",
       "    <tr>\n",
       "      <th>3</th>\n",
       "      <td>521.008642</td>\n",
       "      <td>289.127687</td>\n",
       "      <td>-0.294558</td>\n",
       "      <td>0.156553</td>\n",
       "    </tr>\n",
       "    <tr>\n",
       "      <th>4</th>\n",
       "      <td>457.749280</td>\n",
       "      <td>314.640046</td>\n",
       "      <td>-0.417214</td>\n",
       "      <td>0.222720</td>\n",
       "    </tr>\n",
       "  </tbody>\n",
       "</table>\n",
       "</div>"
      ],
      "text/plain": [
       "            x           y      mean    stddev\n",
       "0  544.594606  432.890014 -0.411170  0.206193\n",
       "1  587.352069  385.720914 -0.323445  0.163446\n",
       "2  605.466471  300.679092 -0.236087  0.063194\n",
       "3  521.008642  289.127687 -0.294558  0.156553\n",
       "4  457.749280  314.640046 -0.417214  0.222720"
      ]
     },
     "execution_count": 2,
     "metadata": {},
     "output_type": "execute_result"
    }
   ],
   "source": [
    "# File which includes hvsr statistical data.\n",
    "fname = \"sp_centreport.csv\"\n",
    "# Assumed distribution of the generators. \"lognormal\" is recommended.\n",
    "dist_generators = \"lognormal\"\n",
    "# Assumed/desired spatial distribution. \"lognormal\" is recommended.\n",
    "dist_spatial = \"lognormal\"\n",
    "\n",
    "df = pd.read_csv(fname)\n",
    "coordinates = df.to_numpy(copy=True)[:, 0:2]\n",
    "means = df.to_numpy(copy=True)[:, 2]\n",
    "stddevs = df.to_numpy(copy=True)[:, 3]\n",
    "df.head()"
   ]
  },
  {
   "cell_type": "markdown",
   "metadata": {},
   "source": [
    "## Create HvsrVault Object\n",
    "---\n",
    "The `HvsrVault` object stores all the Hvsr statistical data and their coordinates. Using an object allows different boundaries to be attempted on a single dataset.\n"
   ]
  },
  {
   "cell_type": "code",
   "execution_count": 3,
   "metadata": {},
   "outputs": [
    {
     "name": "stdout",
     "output_type": "stream",
     "text": [
      "HvsrVault object created successfully!\n"
     ]
    }
   ],
   "source": [
    "vlt = hvsrpy.HvsrVault(coordinates, means, stddevs=stddevs)\n",
    "print(\"HvsrVault object created successfully!\")"
   ]
  },
  {
   "cell_type": "markdown",
   "metadata": {},
   "source": [
    "## Load Boundary Information\n",
    "\n",
    "---\n",
    "Specify unique x and y coordinates to define the Voronoi tesselations boundary.\n"
   ]
  },
  {
   "cell_type": "code",
   "execution_count": 4,
   "metadata": {},
   "outputs": [
    {
     "data": {
      "text/html": [
       "<div>\n",
       "<style scoped>\n",
       "    .dataframe tbody tr th:only-of-type {\n",
       "        vertical-align: middle;\n",
       "    }\n",
       "\n",
       "    .dataframe tbody tr th {\n",
       "        vertical-align: top;\n",
       "    }\n",
       "\n",
       "    .dataframe thead th {\n",
       "        text-align: right;\n",
       "    }\n",
       "</style>\n",
       "<table border=\"1\" class=\"dataframe\">\n",
       "  <thead>\n",
       "    <tr style=\"text-align: right;\">\n",
       "      <th></th>\n",
       "      <th>x</th>\n",
       "      <th>y</th>\n",
       "    </tr>\n",
       "  </thead>\n",
       "  <tbody>\n",
       "    <tr>\n",
       "      <th>0</th>\n",
       "      <td>323.402906</td>\n",
       "      <td>712.327227</td>\n",
       "    </tr>\n",
       "    <tr>\n",
       "      <th>1</th>\n",
       "      <td>514.514681</td>\n",
       "      <td>746.855647</td>\n",
       "    </tr>\n",
       "    <tr>\n",
       "      <th>2</th>\n",
       "      <td>555.973995</td>\n",
       "      <td>569.713082</td>\n",
       "    </tr>\n",
       "    <tr>\n",
       "      <th>3</th>\n",
       "      <td>372.155994</td>\n",
       "      <td>542.293165</td>\n",
       "    </tr>\n",
       "  </tbody>\n",
       "</table>\n",
       "</div>"
      ],
      "text/plain": [
       "            x           y\n",
       "0  323.402906  712.327227\n",
       "1  514.514681  746.855647\n",
       "2  555.973995  569.713082\n",
       "3  372.155994  542.293165"
      ]
     },
     "execution_count": 4,
     "metadata": {},
     "output_type": "execute_result"
    }
   ],
   "source": [
    "df = pd.read_csv(\"sp_w2.csv\")\n",
    "\n",
    "boundary = df.to_numpy(copy=True)[:, 0:2]\n",
    "df.head()"
   ]
  },
  {
   "cell_type": "markdown",
   "metadata": {},
   "source": [
    "## Apply Boundary\n",
    "---\n",
    "\n",
    "Apply boundary to `HvsrVault` and request spatial weights for declustered statistical analysis.\n"
   ]
  },
  {
   "cell_type": "code",
   "execution_count": 5,
   "metadata": {},
   "outputs": [
    {
     "name": "stdout",
     "output_type": "stream",
     "text": [
      "Number of Sensors Inside Boundary : 8\n"
     ]
    }
   ],
   "source": [
    "weights, valid_indices = vlt.spatial_weights(boundary, dc_method=\"voronoi\")\n",
    "valid_coordinates = vlt.coordinates[valid_indices,:]\n",
    "vertices, indices = vlt.bounded_voronoi(boundary)\n",
    "\n",
    "print(f\"Number of Sensors Inside Boundary : {len(valid_indices)}\")"
   ]
  },
  {
   "cell_type": "markdown",
   "metadata": {},
   "source": [
    "## Plot Result\n",
    "---"
   ]
  },
  {
   "cell_type": "code",
   "execution_count": 6,
   "metadata": {},
   "outputs": [
    {
     "name": "stdout",
     "output_type": "stream",
     "text": [
      "Statistics considering spatial variability:\n"
     ]
    },
    {
     "data": {
      "text/html": [
       "<div>\n",
       "<style scoped>\n",
       "    .dataframe tbody tr th:only-of-type {\n",
       "        vertical-align: middle;\n",
       "    }\n",
       "\n",
       "    .dataframe tbody tr th {\n",
       "        vertical-align: top;\n",
       "    }\n",
       "\n",
       "    .dataframe thead th {\n",
       "        text-align: right;\n",
       "    }\n",
       "</style>\n",
       "<table border=\"1\" class=\"dataframe\">\n",
       "  <thead>\n",
       "    <tr style=\"text-align: right;\">\n",
       "      <th></th>\n",
       "      <th>Lognormal Median</th>\n",
       "      <th>Lognormal Standard Deviation</th>\n",
       "    </tr>\n",
       "  </thead>\n",
       "  <tbody>\n",
       "    <tr>\n",
       "      <th>Fundamental Site Frequency, f0</th>\n",
       "      <td>0.58</td>\n",
       "      <td>0.16</td>\n",
       "    </tr>\n",
       "    <tr>\n",
       "      <th>Fundamental Site Period, T0</th>\n",
       "      <td>1.74</td>\n",
       "      <td>0.16</td>\n",
       "    </tr>\n",
       "  </tbody>\n",
       "</table>\n",
       "</div>"
      ],
      "text/plain": [
       "                                Lognormal Median  Lognormal Standard Deviation\n",
       "Fundamental Site Frequency, f0              0.58                          0.16\n",
       "Fundamental Site Period, T0                 1.74                          0.16"
      ]
     },
     "metadata": {},
     "output_type": "display_data"
    },
    {
     "data": {
      "image/png": "[encoded data removed]",
      "text/plain": [
       "<Figure size 630x600 with 2 Axes>"
      ]
     },
     "metadata": {
      "needs_background": "light"
     },
     "output_type": "display_data"
    }
   ],
   "source": [
    "f0_mean, f0_stddev, f0s_realizations = hvsrpy.montecarlo_f0(means[valid_indices], stddevs[valid_indices], weights, nrealizations=1000, dist_generators=dist_generators, dist_spatial=dist_spatial)\n",
    "\n",
    "if dist_spatial == \"lognormal\":    \n",
    "    data = np.array([[f0_mean, f0_stddev],\n",
    "                     [1/f0_mean, f0_stddev]])\n",
    "    columns = [\"Lognormal Median\", \"Lognormal Standard Deviation\"]\n",
    "elif dist_spatial == \"normal\":\n",
    "    data = np.array([[f0_mean, f0_stddev],\n",
    "                     [np.nan, np.nan]])\n",
    "    columns = [\"Mean\", \"Standard Deviation\"]\n",
    "else:\n",
    "    raise ValueError(f\"dist_spatial = {dist_spatial} not recognized.\")\n",
    "\n",
    "df = pd.DataFrame(data=data, columns=columns,\n",
    "                       index=[\"Fundamental Site Frequency, f0\",\n",
    "                              \"Fundamental Site Period, T0\"])\n",
    "print(\"Statistics considering spatial variability:\")\n",
    "display(df.round(2))\n",
    "\n",
    "fig, axs = plt.subplots(ncols=2, figsize=(4.2,4), dpi=150, gridspec_kw=dict(width_ratios=(4,0.2)))\n",
    "ax = axs[0]\n",
    "ax.plot(valid_coordinates[:,0], valid_coordinates[:,1], color=\"#3399ff\", linestyle=\"\", marker=\"o\", label=\"Point Inside Boundary\", markeredgecolor=\"k\")\n",
    "\n",
    "closed_boundary = np.vstack((boundary, boundary[0,:]))\n",
    "ax.plot(closed_boundary[:,0], closed_boundary[:,1], color=\"#000000\", label=\"Boundary\",  linewidth=3)\n",
    "\n",
    "_data = means[valid_indices]\n",
    "if dist_spatial == \"lognormal\":\n",
    "    _data = np.exp(_data)\n",
    "_min, _max = np.min(_data), np.max(_data)\n",
    "norm = cm.colors.Normalize(vmin=_min, vmax=_max)\n",
    "cmap = cm.autumn\n",
    "mpl.colorbar.ColorbarBase(axs[1], cmap=cmap, norm=norm, label=\"Fundamental Frequency (Hz)\")\n",
    "\n",
    "for _dat, vertex in zip(_data, vertices):\n",
    "    ax.fill(vertex[:, 0], vertex[:, 1], facecolor=mpl.colors.rgb2hex(cmap(norm(_dat))[:3]), edgecolor=\"k\",   linewidth=0.5)\n",
    "\n",
    "ax.set_xlabel(\"Relative Easting (m)\")\n",
    "ax.set_ylabel(\"Relative Northing (m)\")\n",
    "ax.legend(loc=\"upper center\", bbox_to_anchor=(0.5, -0.15), ncol=3)\n",
    "\n",
    "plt.show()"
   ]
  },
  {
   "cell_type": "markdown",
   "metadata": {},
   "source": [
    "## Save Figure to File\n",
    "---"
   ]
  },
  {
   "cell_type": "code",
   "execution_count": 7,
   "metadata": {},
   "outputs": [
    {
     "name": "stdout",
     "output_type": "stream",
     "text": [
      "Figure saved successfully!\n"
     ]
    }
   ],
   "source": [
    "figure_name_out = \"example_hvsr_spatial.png\"\n",
    "\n",
    "fig.savefig(figure_name_out, dpi=300, bbox_inches='tight')\n",
    "plt.close()\n",
    "print(\"Figure saved successfully!\")"
   ]
  },
  {
   "cell_type": "code",
   "execution_count": null,
   "metadata": {},
   "outputs": [],
   "source": []
  }
 ],
 "metadata": {
  "kernelspec": {
   "display_name": "Python 3",
   "language": "python",
   "name": "python3"
  },
  "language_info": {
   "codemirror_mode": {
    "name": "ipython",
    "version": 3
   },
   "file_extension": ".py",
   "mimetype": "text/x-python",
   "name": "python",
   "nbconvert_exporter": "python",
   "pygments_lexer": "ipython3",
   "version": "3.7.5"
  }
 },
 "nbformat": 4,
 "nbformat_minor": 4
}
