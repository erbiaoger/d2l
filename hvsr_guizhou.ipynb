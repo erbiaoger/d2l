{
 "cells": [
  {
   "cell_type": "code",
   "execution_count": 1,
   "metadata": {},
   "outputs": [],
   "source": [
    "import time\n",
    "import numpy as np\n",
    "import pandas as pd\n",
    "import matplotlib.pyplot as plt\n",
    "import obspy\n",
    "import os\n",
    "import glob\n",
    "\n",
    "import hvsrpy\n",
    "from hvsrpy import utils\n",
    "%matplotlib inline"
   ]
  },
  {
   "cell_type": "code",
   "execution_count": 2,
   "metadata": {},
   "outputs": [],
   "source": [
    "def write_mseed(data_X, data_Y, data_Z, filename):\n",
    "    Trace_X = obspy.Trace()\n",
    "    Trace_Y = obspy.Trace()\n",
    "    Trace_Z = obspy.Trace()\n",
    "\n",
    "    Trace_Z.data = data_Z\n",
    "    Trace_Y.data = data_Y\n",
    "    Trace_X.data = data_X\n",
    "\n",
    "    Trace_X.stats.starttime = obspy.UTCDateTime('2020-01-01T00:00:00.000000Z')\n",
    "    Trace_Y.stats.starttime = obspy.UTCDateTime('2020-01-01T00:00:00.000000Z')\n",
    "    Trace_Z.stats.starttime = obspy.UTCDateTime('2020-01-01T00:00:00.000000Z')\n",
    "\n",
    "    Trace_X.stats.delta = 0.002\n",
    "    Trace_Y.stats.delta = 0.002\n",
    "    Trace_Z.stats.delta = 0.002\n",
    "\n",
    "    st = obspy.Stream([Trace_X, Trace_Y, Trace_Z])\n",
    "    st[0].meta.channel = 'BHZ'\n",
    "    st[1].meta.channel = 'BHN'\n",
    "    st[2].meta.channel = 'BHE'\n",
    "\n",
    "    st.write(filename, format='MSEED')"
   ]
  },
  {
   "cell_type": "code",
   "execution_count": 3,
   "metadata": {},
   "outputs": [],
   "source": [
    "import pathlib\n",
    "from scipy import io as sio\n",
    "\n",
    "path_Z      = pathlib.Path('/media/user/Extreme Pro/YXMK/YXsac/z_h')\n",
    "path_X      = pathlib.Path('/media/user/Extreme Pro/YXMK/YXsac/x_h')\n",
    "path_Y      = pathlib.Path('/media/user/Extreme Pro/YXMK/YXsac/y_h')\n",
    "path_mseed  = pathlib.Path('./YXMK/YXsac/YXmseed')\n",
    "\n",
    "files_Z = path_Z.iterdir()\n",
    "files_X = path_X.iterdir()\n",
    "files_Y = path_Y.iterdir()\n",
    "\n"
   ]
  },
  {
   "cell_type": "code",
   "execution_count": 4,
   "metadata": {},
   "outputs": [],
   "source": [
    "X_list = []\n",
    "Y_list = []\n",
    "Z_list = []\n",
    "\n",
    "for file_X, file_Y, file_Z in zip(sorted(files_X), sorted(files_Y), sorted(files_Z)):\n",
    "    for X, Y, Z in zip(sorted(file_X.glob('*.mat')), sorted(file_Y.glob('*.mat')), sorted(file_Z.glob('*.mat'))):\n",
    "        X_list.append(X)\n",
    "        Y_list.append(Y)\n",
    "        Z_list.append(Z)\n"
   ]
  },
  {
   "cell_type": "code",
   "execution_count": 5,
   "metadata": {},
   "outputs": [
    {
     "data": {
      "text/plain": [
       "174"
      ]
     },
     "execution_count": 5,
     "metadata": {},
     "output_type": "execute_result"
    }
   ],
   "source": [
    "len(sorted(path_mseed.iterdir()))"
   ]
  },
  {
   "cell_type": "code",
   "execution_count": 6,
   "metadata": {},
   "outputs": [],
   "source": [
    "aa = []\n",
    "for mseed in sorted(path_mseed.iterdir()):\n",
    "    for file in sorted(mseed.glob('*.mseed')):\n",
    "        aa.append(file)"
   ]
  },
  {
   "cell_type": "code",
   "execution_count": 7,
   "metadata": {},
   "outputs": [
    {
     "data": {
      "text/plain": [
       "23924"
      ]
     },
     "execution_count": 7,
     "metadata": {},
     "output_type": "execute_result"
    }
   ],
   "source": [
    "len(aa)"
   ]
  },
  {
   "cell_type": "code",
   "execution_count": 14,
   "metadata": {},
   "outputs": [
    {
     "data": {
      "text/plain": [
       "26995"
      ]
     },
     "execution_count": 14,
     "metadata": {},
     "output_type": "execute_result"
    }
   ],
   "source": [
    "len(X_list)"
   ]
  },
  {
   "cell_type": "code",
   "execution_count": 8,
   "metadata": {},
   "outputs": [
    {
     "name": "stdout",
     "output_type": "stream",
     "text": [
      "YXMK/YXsac/YXmseed/453020671/hour124.mseed\n",
      "YXMK/YXsac/YXmseed/453020671/hour125.mseed\n",
      "YXMK/YXsac/YXmseed/453020671/hour126.mseed\n",
      "YXMK/YXsac/YXmseed/453020671/hour127.mseed\n",
      "YXMK/YXsac/YXmseed/453020671/hour128.mseed\n",
      "YXMK/YXsac/YXmseed/453020671/hour129.mseed\n",
      "YXMK/YXsac/YXmseed/453020671/hour13.mseed\n"
     ]
    }
   ],
   "source": [
    "for X, Y, Z in zip(X_list[23924:], Y_list[23924:], Z_list[23924:]):\n",
    "    data_X = np.array(list(np.squeeze(sio.loadmat(X)['hourdata'])), dtype=np.float64)\n",
    "    data_Y = np.array(list(np.squeeze(sio.loadmat(Y)['hourdata'])), dtype=np.float64)\n",
    "    data_Z = np.array(list(np.squeeze(sio.loadmat(Z)['hourdata'])), dtype=np.float64)\n",
    "    \n",
    "    dirname = path_mseed / X.parent.stem\n",
    "    dirname.mkdir(parents=True, exist_ok=True)\n",
    "    name = X.stem + '.mseed'\n",
    "    filename = dirname/name\n",
    "    print(filename)\n",
    "    write_mseed(data_X, data_Y, data_Z, filename)\n"
   ]
  },
  {
   "cell_type": "code",
   "execution_count": null,
   "metadata": {},
   "outputs": [],
   "source": [
    "index = np.load('index.npy', allow_pickle=True).item()"
   ]
  },
  {
   "cell_type": "code",
   "execution_count": null,
   "metadata": {},
   "outputs": [],
   "source": [
    "https://geosur.osureunion.fr/thredds/catalog/researchprogram/sysmop/data_geophone/data_10cm/2021/01/catalog.html?dataset=researchprogram/sysmop/data_geophone/data_10cm/2021/01/RP.LMR.HH1_20210101_000000"
   ]
  },
  {
   "cell_type": "code",
   "execution_count": null,
   "metadata": {},
   "outputs": [],
   "source": [
    "HTTPServer: /thredds/fileServer/researchprogram/sysmop/data_geophone/data_10cm/2021/01/RP.LMR.HH1_20210101_000000\n"
   ]
  },
  {
   "cell_type": "code",
   "execution_count": null,
   "metadata": {},
   "outputs": [],
   "source": [
    "https://geosur.osureunion.fr/thredds/fileServer/researchprogram/sysmop/data_geophone/data_10cm/2021/01/RP.LMR.HH1_20210101_000000"
   ]
  },
  {
   "cell_type": "code",
   "execution_count": null,
   "metadata": {},
   "outputs": [],
   "source": [
    "path1 = ['code', 'data_geophone', 'data_rain']\n",
    "path2 = ['data_10cm', 'data_20cm', 'data_30cm']\n",
    "path3 = ['2021']\n",
    "path4 = ['01', '02']\n",
    "path5 = "
   ]
  },
  {
   "cell_type": "code",
   "execution_count": null,
   "metadata": {},
   "outputs": [],
   "source": []
  },
  {
   "cell_type": "code",
   "execution_count": null,
   "metadata": {},
   "outputs": [],
   "source": [
    "sudo docker run -it --name download -v /volume1/CSIM_LAB/DATA/SYSMOP/:/root/text_similar python:3.10 bash"
   ]
  },
  {
   "cell_type": "code",
   "execution_count": null,
   "metadata": {},
   "outputs": [],
   "source": []
  },
  {
   "cell_type": "code",
   "execution_count": null,
   "metadata": {},
   "outputs": [],
   "source": [
    "cp /root/text_similar/* ."
   ]
  },
  {
   "cell_type": "code",
   "execution_count": null,
   "metadata": {},
   "outputs": [],
   "source": []
  },
  {
   "cell_type": "code",
   "execution_count": null,
   "metadata": {},
   "outputs": [],
   "source": [
    "pip install numpy -i https://pypi.tuna.tsinghua.edu.cn/simple"
   ]
  }
 ],
 "metadata": {
  "kernelspec": {
   "display_name": "hvsrpy",
   "language": "python",
   "name": "python3"
  },
  "language_info": {
   "codemirror_mode": {
    "name": "ipython",
    "version": 3
   },
   "file_extension": ".py",
   "mimetype": "text/x-python",
   "name": "python",
   "nbconvert_exporter": "python",
   "pygments_lexer": "ipython3",
   "version": "3.7.12"
  }
 },
 "nbformat": 4,
 "nbformat_minor": 2
}
